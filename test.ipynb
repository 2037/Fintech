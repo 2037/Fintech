{
 "cells": [
  {
   "cell_type": "code",
   "execution_count": 1,
   "metadata": {},
   "outputs": [],
   "source": [
    "from flask import Flask, request, jsonify\n",
    "from werkzeug.utils import secure_filename\n",
    "import os\n",
    "import numpy as np\n",
    "import pandas as pd\n",
    "import pickle as p\n",
    "import xgboost as xgb"
   ]
  },
  {
   "cell_type": "code",
   "execution_count": 2,
   "metadata": {},
   "outputs": [],
   "source": [
    "app = Flask(__name__)\n",
    "\n",
    "MODEL_FOLDER = './models'\n",
    "FEATURE_FOLDER = './features'\n",
    "app.config['MODEL_FOLDER'] = MODEL_FOLDER\n",
    "app.config['FEATURE_FOLDER'] = FEATURE_FOLDER\n",
    "\n",
    "feature_file_path = './features/feature.pkl'\n",
    "model_file_path = './models/model_old.pkl' #test on old"
   ]
  },
  {
   "cell_type": "code",
   "execution_count": 3,
   "metadata": {},
   "outputs": [],
   "source": [
    "import requests"
   ]
  },
  {
   "cell_type": "code",
   "execution_count": 4,
   "metadata": {},
   "outputs": [
    {
     "data": {
      "text/plain": [
       "'./features/feature.pkl'"
      ]
     },
     "execution_count": 4,
     "metadata": {},
     "output_type": "execute_result"
    }
   ],
   "source": [
    "feature_file_path"
   ]
  },
  {
   "cell_type": "markdown",
   "metadata": {},
   "source": [
    "# load feature"
   ]
  },
  {
   "cell_type": "code",
   "execution_count": 5,
   "metadata": {},
   "outputs": [],
   "source": [
    "threshold = 0.1\n",
    "data = {\"int_rate\": 0.34, \"loan_amnt\": 15000, \"term\": 36, \"fund_rate\": 0.4, \n",
    "\"bc_open_to_buy\": 9.0, \"total_il_high_credit_limit\": 2.8, \"dti\": 1.31, \"annual_inc\": 66, \"bc_util\": 10000}\n",
    "pd.read_pickle(open(feature_file_path, 'rb'))\n",
    "\n",
    "with open(feature_file_path, 'rb') as f:\n",
    "    feature = pd.read_pickle(f)"
   ]
  },
  {
   "cell_type": "code",
   "execution_count": 6,
   "metadata": {},
   "outputs": [
    {
     "data": {
      "text/html": [
       "<div>\n",
       "<style scoped>\n",
       "    .dataframe tbody tr th:only-of-type {\n",
       "        vertical-align: middle;\n",
       "    }\n",
       "\n",
       "    .dataframe tbody tr th {\n",
       "        vertical-align: top;\n",
       "    }\n",
       "\n",
       "    .dataframe thead th {\n",
       "        text-align: right;\n",
       "    }\n",
       "</style>\n",
       "<table border=\"1\" class=\"dataframe\">\n",
       "  <thead>\n",
       "    <tr style=\"text-align: right;\">\n",
       "      <th></th>\n",
       "      <th>28007</th>\n",
       "    </tr>\n",
       "  </thead>\n",
       "  <tbody>\n",
       "    <tr>\n",
       "      <th>acc_now_delinq</th>\n",
       "      <td>0.0</td>\n",
       "    </tr>\n",
       "    <tr>\n",
       "      <th>acc_open_past_24mths</th>\n",
       "      <td>7.0</td>\n",
       "    </tr>\n",
       "    <tr>\n",
       "      <th>addr_state_AK</th>\n",
       "      <td>0.0</td>\n",
       "    </tr>\n",
       "    <tr>\n",
       "      <th>addr_state_AL</th>\n",
       "      <td>0.0</td>\n",
       "    </tr>\n",
       "    <tr>\n",
       "      <th>addr_state_AR</th>\n",
       "      <td>0.0</td>\n",
       "    </tr>\n",
       "    <tr>\n",
       "      <th>...</th>\n",
       "      <td>...</td>\n",
       "    </tr>\n",
       "    <tr>\n",
       "      <th>total_cu_tl</th>\n",
       "      <td>NaN</td>\n",
       "    </tr>\n",
       "    <tr>\n",
       "      <th>total_il_high_credit_limit</th>\n",
       "      <td>68217.0</td>\n",
       "    </tr>\n",
       "    <tr>\n",
       "      <th>total_rev_hi_lim</th>\n",
       "      <td>24900.0</td>\n",
       "    </tr>\n",
       "    <tr>\n",
       "      <th>train_flg</th>\n",
       "      <td>1.0</td>\n",
       "    </tr>\n",
       "    <tr>\n",
       "      <th>zip_code_freq</th>\n",
       "      <td>439.0</td>\n",
       "    </tr>\n",
       "  </tbody>\n",
       "</table>\n",
       "<p>180 rows × 1 columns</p>\n",
       "</div>"
      ],
      "text/plain": [
       "                              28007\n",
       "acc_now_delinq                  0.0\n",
       "acc_open_past_24mths            7.0\n",
       "addr_state_AK                   0.0\n",
       "addr_state_AL                   0.0\n",
       "addr_state_AR                   0.0\n",
       "...                             ...\n",
       "total_cu_tl                     NaN\n",
       "total_il_high_credit_limit  68217.0\n",
       "total_rev_hi_lim            24900.0\n",
       "train_flg                       1.0\n",
       "zip_code_freq                 439.0\n",
       "\n",
       "[180 rows x 1 columns]"
      ]
     },
     "execution_count": 6,
     "metadata": {},
     "output_type": "execute_result"
    }
   ],
   "source": [
    "feature.T.sort_index()"
   ]
  },
  {
   "cell_type": "code",
   "execution_count": 7,
   "metadata": {},
   "outputs": [
    {
     "data": {
      "text/plain": [
       "Index(['acc_now_delinq', 'acc_open_past_24mths', 'addr_state_AK',\n",
       "       'addr_state_AL', 'addr_state_AR', 'addr_state_AZ', 'addr_state_CA',\n",
       "       'addr_state_CO', 'addr_state_CT', 'addr_state_DC',\n",
       "       ...\n",
       "       'tot_hi_cred_lim', 'total_acc', 'total_bal_ex_mort', 'total_bal_il',\n",
       "       'total_bc_limit', 'total_cu_tl', 'total_il_high_credit_limit',\n",
       "       'total_rev_hi_lim', 'train_flg', 'zip_code_freq'],\n",
       "      dtype='object', length=180)"
      ]
     },
     "execution_count": 7,
     "metadata": {},
     "output_type": "execute_result"
    }
   ],
   "source": [
    "feature.columns.sort_values()"
   ]
  },
  {
   "cell_type": "code",
   "execution_count": 8,
   "metadata": {},
   "outputs": [
    {
     "ename": "NameError",
     "evalue": "name 'model' is not defined",
     "output_type": "error",
     "traceback": [
      "\u001b[1;31m---------------------------------------------------------------------------\u001b[0m",
      "\u001b[1;31mNameError\u001b[0m                                 Traceback (most recent call last)",
      "\u001b[1;32m<ipython-input-8-5bbdfa3a5c87>\u001b[0m in \u001b[0;36m<module>\u001b[1;34m\u001b[0m\n\u001b[1;32m----> 1\u001b[1;33m \u001b[0mtmp\u001b[0m \u001b[1;33m=\u001b[0m \u001b[0mmodel\u001b[0m\u001b[1;33m.\u001b[0m\u001b[0mfeature_names\u001b[0m\u001b[1;33m\u001b[0m\u001b[1;33m\u001b[0m\u001b[0m\n\u001b[0m",
      "\u001b[1;31mNameError\u001b[0m: name 'model' is not defined"
     ]
    }
   ],
   "source": [
    "tmp = model.feature_names"
   ]
  },
  {
   "cell_type": "code",
   "execution_count": null,
   "metadata": {},
   "outputs": [
    {
     "data": {
      "text/plain": [
       "['accnowdelinq',\n",
       " 'accopenpast24mths',\n",
       " 'addrstate_freq',\n",
       " 'allutil',\n",
       " 'annualinc',\n",
       " 'annualincjoint',\n",
       " 'applicationtype_Individual',\n",
       " 'applicationtype_Joint App',\n",
       " 'avgcurbal',\n",
       " 'bcopentobuy',\n",
       " 'bcutil',\n",
       " 'chargeoffwithin12mths',\n",
       " 'collections12mthsexmed',\n",
       " 'delinq2yrs',\n",
       " 'delinqamnt',\n",
       " 'dti',\n",
       " 'dtijoint',\n",
       " 'earliestcrline_month',\n",
       " 'emplength',\n",
       " 'emptitle_freq',\n",
       " 'ficorangehigh',\n",
       " 'ficorangelow',\n",
       " 'grade',\n",
       " 'homeownership_ANY',\n",
       " 'homeownership_MORTGAGE',\n",
       " 'homeownership_NONE',\n",
       " 'homeownership_OWN',\n",
       " 'homeownership_RENT',\n",
       " 'ilutil',\n",
       " 'initialliststatus_f',\n",
       " 'initialliststatus_w',\n",
       " 'inqfi',\n",
       " 'inqlast12m',\n",
       " 'inqlast6mths',\n",
       " 'installment',\n",
       " 'intrate',\n",
       " 'loanamnt',\n",
       " 'maxbalbc',\n",
       " 'mortacc',\n",
       " 'mosinoldilacct',\n",
       " 'mosinoldrevtlop',\n",
       " 'mosinrcntrevtlop',\n",
       " 'mosinrcnttl',\n",
       " 'mthssincelastdelinq',\n",
       " 'mthssincelastmajorderog',\n",
       " 'mthssincelastrecord',\n",
       " 'mthssincercntil',\n",
       " 'mthssincerecentbc',\n",
       " 'mthssincerecentbcdlq',\n",
       " 'mthssincerecentinq',\n",
       " 'mthssincerecentrevoldelinq',\n",
       " 'numacctsever120pd',\n",
       " 'numactvbctl',\n",
       " 'numactvrevtl',\n",
       " 'numbcsats',\n",
       " 'numbctl',\n",
       " 'numiltl',\n",
       " 'numoprevtl',\n",
       " 'numrevaccts',\n",
       " 'numrevtlbalgt0',\n",
       " 'numsats',\n",
       " 'numtl120dpd2m',\n",
       " 'numtl30dpd',\n",
       " 'numtl90gdpd24m',\n",
       " 'numtloppast12m',\n",
       " 'openacc',\n",
       " 'openacc6m',\n",
       " 'openactil',\n",
       " 'openil12m',\n",
       " 'openil24m',\n",
       " 'openrv12m',\n",
       " 'openrv24m',\n",
       " 'pcttlnvrdlq',\n",
       " 'percentbcgt75',\n",
       " 'pubrec',\n",
       " 'pubrecbankruptcies',\n",
       " 'purpose_car',\n",
       " 'purpose_credit_card',\n",
       " 'purpose_debt_consolidation',\n",
       " 'purpose_educational',\n",
       " 'purpose_home_improvement',\n",
       " 'purpose_house',\n",
       " 'purpose_major_purchase',\n",
       " 'purpose_medical',\n",
       " 'purpose_moving',\n",
       " 'purpose_other',\n",
       " 'purpose_renewable_energy',\n",
       " 'purpose_small_business',\n",
       " 'purpose_vacation',\n",
       " 'revolbal',\n",
       " 'revolbaljoint',\n",
       " 'revolutil',\n",
       " 'secappchargeoffwithin12mths',\n",
       " 'secappcollections12mthsexmed',\n",
       " 'secappearliestcrline_month',\n",
       " 'secappficorangehigh',\n",
       " 'secappficorangelow',\n",
       " 'secappinqlast6mths',\n",
       " 'secappmortacc',\n",
       " 'secappmthssincelastmajorderog',\n",
       " 'secappnumrevaccts',\n",
       " 'secappopenacc',\n",
       " 'secappopenactil',\n",
       " 'secapprevolutil',\n",
       " 'subgrade',\n",
       " 'taxliens',\n",
       " 'totalacc',\n",
       " 'totalbalexmort',\n",
       " 'totalbalil',\n",
       " 'totalbclimit',\n",
       " 'totalcutl',\n",
       " 'totalilhighcreditlimit',\n",
       " 'totalrevhilim',\n",
       " 'totcollamt',\n",
       " 'totcurbal',\n",
       " 'tothicredlim',\n",
       " 'verificationstatus_Not Verified',\n",
       " 'verificationstatus_Source Verified',\n",
       " 'verificationstatus_Verified',\n",
       " 'verificationstatusjoint_Not Verified',\n",
       " 'verificationstatusjoint_Source Verified',\n",
       " 'verificationstatusjoint_Verified',\n",
       " 'zipcode',\n",
       " 'zipcode_freq']"
      ]
     },
     "execution_count": 71,
     "metadata": {},
     "output_type": "execute_result"
    }
   ],
   "source": [
    "tmp.sort()\n",
    "tmp"
   ]
  },
  {
   "cell_type": "markdown",
   "metadata": {},
   "source": [
    "# fix feature"
   ]
  },
  {
   "cell_type": "code",
   "execution_count": 9,
   "metadata": {},
   "outputs": [],
   "source": [
    "# fix feature\n",
    "feature['bc_open_to_buy'] = data['bc_open_to_buy']\n",
    "feature['total_il_high_credit_limit'] = data['total_il_high_credit_limit']\n",
    "feature['dti'] = data['dti']\n",
    "feature['annual_inc'] = data['annual_inc']\n",
    "feature['bc_util'] = data['bc_util']\n",
    "feature['int_rate'] = data['int_rate']/100\n",
    "# high wie\n",
    "if data['term'] == 36:\n",
    "    feature['term_ 36 months'] = 1\n",
    "    feature['term_ 60 months'] = 0\n",
    "else:\n",
    "    feature['term_ 36 months'] = 0\n",
    "    feature['term_ 60 months'] = 1\n",
    "# funded_amnt\n",
    "feature['loan_amnt'] = data['loan_amnt']\n",
    "loan_rate = data['fund_rate']/100\n",
    "feature['funded_amnt'] = loan_rate * feature['loan_amnt']"
   ]
  },
  {
   "cell_type": "markdown",
   "metadata": {},
   "source": [
    "# load model"
   ]
  },
  {
   "cell_type": "code",
   "execution_count": 10,
   "metadata": {},
   "outputs": [],
   "source": [
    "dtrain = xgb.DMatrix(feature, missing=np.NAN)\n",
    "modelfile = model_file_path\n",
    "with open(modelfile, 'rb') as f:\n",
    "    model = p.load(f)"
   ]
  },
  {
   "cell_type": "code",
   "execution_count": 11,
   "metadata": {},
   "outputs": [
    {
     "name": "stdout",
     "output_type": "stream",
     "text": [
      "180 180\n"
     ]
    }
   ],
   "source": [
    "ff = feature.columns.to_list()\n",
    "mf = model.feature_names\n",
    "print(\n",
    "    len(ff),\n",
    "    len(mf)\n",
    ")"
   ]
  },
  {
   "cell_type": "code",
   "execution_count": 12,
   "metadata": {},
   "outputs": [
    {
     "data": {
      "text/plain": [
       "set()"
      ]
     },
     "execution_count": 12,
     "metadata": {},
     "output_type": "execute_result"
    }
   ],
   "source": [
    "set(mf).difference(ff)"
   ]
  },
  {
   "cell_type": "markdown",
   "metadata": {},
   "source": [
    "# model prediction"
   ]
  },
  {
   "cell_type": "code",
   "execution_count": 57,
   "metadata": {},
   "outputs": [
    {
     "ename": "ValueError",
     "evalue": "feature_names mismatch: ['secappopenactil', 'bcopentobuy', 'numactvbctl', 'mthssincelastrecord', 'totcurbal', 'secappnumrevaccts', 'secappmthssincelastmajorderog', 'secappcollections12mthsexmed', 'mosinrcnttl', 'openrv12m', 'inqlast12m', 'mortacc', 'mthssincelastdelinq', 'numactvrevtl', 'tothicredlim', 'revolbaljoint', 'ficorangehigh', 'maxbalbc', 'openil24m', 'numbctl', 'totalrevhilim', 'totcollamt', 'secappopenacc', 'numtl120dpd2m', 'secappficorangelow', 'totalbalexmort', 'annualincjoint', 'ficorangelow', 'totalacc', 'mthssincerecentbcdlq', 'installment', 'numrevaccts', 'pubrec', 'accopenpast24mths', 'numoprevtl', 'avgcurbal', 'secappmortacc', 'openactil', 'dti', 'openacc6m', 'totalbalil', 'delinq2yrs', 'mosinoldilacct', 'annualinc', 'inqfi', 'numtl30dpd', 'loanamnt', 'numsats', 'mthssincerecentrevoldelinq', 'mthssincerecentbc', 'secappchargeoffwithin12mths', 'revolbal', 'inqlast6mths', 'mthssincercntil', 'openrv24m', 'secapprevolutil', 'totalilhighcreditlimit', 'collections12mthsexmed', 'chargeoffwithin12mths', 'numtl90gdpd24m', 'delinqamnt', 'mosinoldrevtlop', 'secappficorangehigh', 'taxliens', 'numbcsats', 'totalbclimit', 'dtijoint', 'numacctsever120pd', 'accnowdelinq', 'openil12m', 'pcttlnvrdlq', 'bcutil', 'mthssincerecentinq', 'numiltl', 'mosinrcntrevtlop', 'allutil', 'openacc', 'numrevtlbalgt0', 'totalcutl', 'mthssincelastmajorderog', 'numtloppast12m', 'percentbcgt75', 'pubrecbankruptcies', 'ilutil', 'secappinqlast6mths', 'earliestcrline_month', 'secappearliestcrline_month', 'emplength', 'intrate', 'revolutil', 'grade', 'subgrade', 'zipcode', 'zipcode_freq', 'emptitle_freq', 'addrstate_freq', 'homeownership_ANY', 'homeownership_MORTGAGE', 'homeownership_NONE', 'homeownership_OWN', 'homeownership_RENT', 'verificationstatus_Not Verified', 'verificationstatus_Source Verified', 'verificationstatus_Verified', 'verificationstatusjoint_Not Verified', 'verificationstatusjoint_Source Verified', 'verificationstatusjoint_Verified', 'purpose_car', 'purpose_credit_card', 'purpose_debt_consolidation', 'purpose_educational', 'purpose_home_improvement', 'purpose_house', 'purpose_major_purchase', 'purpose_medical', 'purpose_moving', 'purpose_other', 'purpose_renewable_energy', 'purpose_small_business', 'purpose_vacation', 'applicationtype_Individual', 'applicationtype_Joint App', 'initialliststatus_f', 'initialliststatus_w'] ['loan_amnt', 'funded_amnt', 'int_rate', 'installment', 'grade', 'sub_grade', 'emp_length', 'annual_inc', 'dti', 'delinq_2yrs', 'earliest_cr_line', 'inq_last_6mths', 'mths_since_last_delinq', 'mths_since_last_record', 'open_acc', 'pub_rec', 'revol_bal', 'revol_util', 'total_acc', 'collections_12_mths_ex_med', 'mths_since_last_major_derog', 'annual_inc_joint', 'dti_joint', 'acc_now_delinq', 'tot_coll_amt', 'tot_cur_bal', 'open_acc_6m', 'open_il_6m', 'open_il_12m', 'open_il_24m', 'mths_since_rcnt_il', 'total_bal_il', 'il_util', 'open_rv_12m', 'open_rv_24m', 'max_bal_bc', 'all_util', 'total_rev_hi_lim', 'inq_fi', 'total_cu_tl', 'inq_last_12m', 'acc_open_past_24mths', 'avg_cur_bal', 'bc_open_to_buy', 'bc_util', 'chargeoff_within_12_mths', 'delinq_amnt', 'mo_sin_old_il_acct', 'mo_sin_old_rev_tl_op', 'mo_sin_rcnt_rev_tl_op', 'mo_sin_rcnt_tl', 'mort_acc', 'mths_since_recent_bc', 'mths_since_recent_bc_dlq', 'mths_since_recent_inq', 'mths_since_recent_revol_delinq', 'num_accts_ever_120_pd', 'num_actv_bc_tl', 'num_actv_rev_tl', 'num_bc_sats', 'num_bc_tl', 'num_il_tl', 'num_op_rev_tl', 'num_rev_accts', 'num_rev_tl_bal_gt_0', 'num_sats', 'num_tl_120dpd_2m', 'num_tl_30dpd', 'num_tl_90g_dpd_24m', 'num_tl_op_past_12m', 'pct_tl_nvr_dlq', 'percent_bc_gt_75', 'pub_rec_bankruptcies', 'tax_liens', 'tot_hi_cred_lim', 'total_bal_ex_mort', 'total_bc_limit', 'total_il_high_credit_limit', 'train_flg', 'zip_code_freq', 'addr_state_freq', 'emp_title_freq', 'term_ 36 months', 'term_ 60 months', 'home_ownership_ANY', 'home_ownership_MORTGAGE', 'home_ownership_OWN', 'home_ownership_RENT', 'purpose_car', 'purpose_credit_card', 'purpose_debt_consolidation', 'purpose_home_improvement', 'purpose_house', 'purpose_major_purchase', 'purpose_medical', 'purpose_moving', 'purpose_other', 'purpose_renewable_energy', 'purpose_small_business', 'purpose_vacation', 'purpose_wedding', 'addr_state_AK', 'addr_state_AL', 'addr_state_AR', 'addr_state_AZ', 'addr_state_CA', 'addr_state_CO', 'addr_state_CT', 'addr_state_DC', 'addr_state_DE', 'addr_state_FL', 'addr_state_GA', 'addr_state_HI', 'addr_state_IL', 'addr_state_IN', 'addr_state_KS', 'addr_state_KY', 'addr_state_LA', 'addr_state_MA', 'addr_state_MD', 'addr_state_ME', 'addr_state_MI', 'addr_state_MN', 'addr_state_MO', 'addr_state_MS', 'addr_state_MT', 'addr_state_NC', 'addr_state_NH', 'addr_state_NJ', 'addr_state_NM', 'addr_state_NV', 'addr_state_NY', 'addr_state_OH', 'addr_state_OK', 'addr_state_OR', 'addr_state_PA', 'addr_state_RI', 'addr_state_SC', 'addr_state_SD', 'addr_state_TN', 'addr_state_TX', 'addr_state_UT', 'addr_state_VA', 'addr_state_VT', 'addr_state_WA', 'addr_state_WI', 'addr_state_WV', 'addr_state_WY', 'initial_list_status_f', 'initial_list_status_w', 'last_credit_pull_d_Apr-2014', 'last_credit_pull_d_Apr-2015', 'last_credit_pull_d_Apr-2016', 'last_credit_pull_d_Aug-2014', 'last_credit_pull_d_Aug-2015', 'last_credit_pull_d_Dec-2014', 'last_credit_pull_d_Dec-2015', 'last_credit_pull_d_Feb-2014', 'last_credit_pull_d_Feb-2015', 'last_credit_pull_d_Feb-2016', 'last_credit_pull_d_Jan-2014', 'last_credit_pull_d_Jan-2015', 'last_credit_pull_d_Jan-2016', 'last_credit_pull_d_Jul-2014', 'last_credit_pull_d_Jul-2015', 'last_credit_pull_d_Jun-2014', 'last_credit_pull_d_Jun-2015', 'last_credit_pull_d_Mar-2014', 'last_credit_pull_d_Mar-2015', 'last_credit_pull_d_Mar-2016', 'last_credit_pull_d_May-2014', 'last_credit_pull_d_May-2015', 'last_credit_pull_d_May-2016', 'last_credit_pull_d_Nov-2014', 'last_credit_pull_d_Nov-2015', 'last_credit_pull_d_Oct-2014', 'last_credit_pull_d_Oct-2015', 'last_credit_pull_d_Sep-2014', 'last_credit_pull_d_Sep-2015', 'application_type_INDIVIDUAL']\nexpected purpose_educational, mosinoldrevtlop, intrate, dtijoint, secappmortacc, totalacc, verificationstatus_Verified, ficorangehigh, totalrevhilim, homeownership_OWN, numtloppast12m, mosinoldilacct, pubrec, verificationstatus_Source Verified, numtl90gdpd24m, numoprevtl, numacctsever120pd, mthssincerecentinq, loanamnt, annualinc, totcollamt, zipcode, secappcollections12mthsexmed, initialliststatus_f, totalbclimit, inqlast6mths, collections12mthsexmed, ficorangelow, pcttlnvrdlq, initialliststatus_w, totalbalil, annualincjoint, numactvbctl, inqfi, pubrecbankruptcies, subgrade, chargeoffwithin12mths, mthssincercntil, emplength, numtl120dpd2m, verificationstatusjoint_Verified, tothicredlim, verificationstatusjoint_Not Verified, secappearliestcrline_month, mthssincerecentbc, bcutil, numbctl, openacc6m, mthssincelastmajorderog, revolbal, mosinrcnttl, accnowdelinq, homeownership_NONE, mthssincerecentbcdlq, homeownership_MORTGAGE, secappficorangelow, openil24m, secappnumrevaccts, accopenpast24mths, openacc, totalilhighcreditlimit, openrv24m, totalbalexmort, homeownership_ANY, openactil, inqlast12m, revolbaljoint, emptitle_freq, addrstate_freq, revolutil, secappchargeoffwithin12mths, zipcode_freq, totalcutl, openrv12m, verificationstatusjoint_Source Verified, totcurbal, secappinqlast6mths, numiltl, applicationtype_Individual, secappmthssincelastmajorderog, numsats, secappopenacc, mthssincelastdelinq, mosinrcntrevtlop, verificationstatus_Not Verified, taxliens, applicationtype_Joint App, ilutil, percentbcgt75, mortacc, earliestcrline_month, delinq2yrs, mthssincelastrecord, numrevtlbalgt0, bcopentobuy, mthssincerecentrevoldelinq, secapprevolutil, numactvrevtl, secappopenactil, numbcsats, openil12m, maxbalbc, numrevaccts, delinqamnt, secappficorangehigh, homeownership_RENT, numtl30dpd, allutil, avgcurbal in input data\ntraining data did not have the following fields: last_credit_pull_d_Mar-2016, initial_list_status_f, addr_state_VT, mths_since_recent_revol_delinq, mort_acc, max_bal_bc, avg_cur_bal, mo_sin_rcnt_tl, zip_code_freq, addr_state_FL, last_credit_pull_d_Nov-2014, addr_state_CA, last_credit_pull_d_Apr-2014, annual_inc_joint, last_credit_pull_d_Jun-2014, last_credit_pull_d_May-2014, addr_state_MI, addr_state_VA, last_credit_pull_d_Jun-2015, tot_hi_cred_lim, open_rv_12m, revol_util, emp_title_freq, bc_util, addr_state_KY, chargeoff_within_12_mths, addr_state_MO, addr_state_TN, mths_since_recent_inq, addr_state_KS, last_credit_pull_d_Oct-2014, num_tl_op_past_12m, addr_state_AK, addr_state_MT, addr_state_NV, addr_state_UT, addr_state_PA, initial_list_status_w, last_credit_pull_d_Feb-2016, tot_cur_bal, il_util, tot_coll_amt, num_tl_90g_dpd_24m, open_acc_6m, addr_state_HI, last_credit_pull_d_Jul-2014, acc_open_past_24mths, addr_state_WY, inq_last_12m, int_rate, bc_open_to_buy, mths_since_recent_bc, term_ 60 months, addr_state_MA, addr_state_DC, last_credit_pull_d_Mar-2014, open_il_24m, home_ownership_ANY, loan_amnt, open_il_12m, addr_state_IN, last_credit_pull_d_Apr-2015, mths_since_rcnt_il, addr_state_AZ, last_credit_pull_d_Dec-2015, addr_state_GA, last_credit_pull_d_Sep-2015, addr_state_SD, revol_bal, inq_fi, addr_state_IL, addr_state_NH, home_ownership_OWN, earliest_cr_line, addr_state_freq, last_credit_pull_d_May-2016, term_ 36 months, dti_joint, addr_state_CT, num_bc_sats, delinq_2yrs, addr_state_NC, addr_state_MD, sub_grade, total_bal_il, last_credit_pull_d_Dec-2014, last_credit_pull_d_Jul-2015, num_il_tl, mths_since_last_major_derog, total_rev_hi_lim, addr_state_AR, addr_state_CO, last_credit_pull_d_Jan-2015, application_type_INDIVIDUAL, total_acc, total_bal_ex_mort, last_credit_pull_d_Jan-2014, total_cu_tl, open_rv_24m, addr_state_ME, addr_state_WV, num_actv_bc_tl, last_credit_pull_d_Sep-2014, tax_liens, addr_state_SC, all_util, addr_state_DE, num_accts_ever_120_pd, addr_state_MN, addr_state_TX, last_credit_pull_d_Oct-2015, mths_since_recent_bc_dlq, mo_sin_old_il_acct, pub_rec_bankruptcies, num_rev_tl_bal_gt_0, num_sats, last_credit_pull_d_Apr-2016, num_rev_accts, num_bc_tl, open_acc, purpose_wedding, addr_state_MS, total_il_high_credit_limit, num_actv_rev_tl, num_tl_30dpd, total_bc_limit, addr_state_OH, last_credit_pull_d_Aug-2015, delinq_amnt, last_credit_pull_d_Nov-2015, num_op_rev_tl, addr_state_NY, mo_sin_rcnt_rev_tl_op, addr_state_AL, home_ownership_RENT, last_credit_pull_d_Aug-2014, mths_since_last_delinq, addr_state_OK, pct_tl_nvr_dlq, addr_state_RI, last_credit_pull_d_May-2015, addr_state_NJ, mths_since_last_record, acc_now_delinq, home_ownership_MORTGAGE, last_credit_pull_d_Feb-2015, last_credit_pull_d_Jan-2016, collections_12_mths_ex_med, percent_bc_gt_75, num_tl_120dpd_2m, addr_state_WI, emp_length, train_flg, addr_state_WA, mo_sin_old_rev_tl_op, addr_state_OR, addr_state_LA, pub_rec, funded_amnt, addr_state_NM, open_il_6m, last_credit_pull_d_Mar-2015, annual_inc, last_credit_pull_d_Feb-2014, inq_last_6mths",
     "output_type": "error",
     "traceback": [
      "\u001b[1;31m---------------------------------------------------------------------------\u001b[0m",
      "\u001b[1;31mValueError\u001b[0m                                Traceback (most recent call last)",
      "\u001b[1;32m<ipython-input-57-51bb88d84351>\u001b[0m in \u001b[0;36m<module>\u001b[1;34m\u001b[0m\n\u001b[1;32m----> 1\u001b[1;33m \u001b[0mprediction\u001b[0m \u001b[1;33m=\u001b[0m \u001b[0mmodel\u001b[0m\u001b[1;33m.\u001b[0m\u001b[0mpredict\u001b[0m\u001b[1;33m(\u001b[0m\u001b[0mdtrain\u001b[0m\u001b[1;33m)\u001b[0m\u001b[1;33m\u001b[0m\u001b[1;33m\u001b[0m\u001b[0m\n\u001b[0m\u001b[0;32m      2\u001b[0m \u001b[0mprediction\u001b[0m \u001b[1;33m=\u001b[0m \u001b[0mfloat\u001b[0m\u001b[1;33m(\u001b[0m\u001b[0mprediction\u001b[0m\u001b[1;33m)\u001b[0m\u001b[1;33m\u001b[0m\u001b[1;33m\u001b[0m\u001b[0m\n",
      "\u001b[1;32md:\\DAL_DSbootcamp_project\\Project 11\\Project 11 （FinTech）\\Week 4\\Fintech 4\\Fintech 4\\FinTechAPI_Flask -V2\\py36env\\lib\\site-packages\\xgboost\\core.py\u001b[0m in \u001b[0;36mpredict\u001b[1;34m(self, data, output_margin, ntree_limit, pred_leaf, pred_contribs, approx_contribs, pred_interactions, validate_features, training, iteration_range, strict_shape)\u001b[0m\n\u001b[0;32m   1885\u001b[0m             \u001b[1;32mraise\u001b[0m \u001b[0mTypeError\u001b[0m\u001b[1;33m(\u001b[0m\u001b[1;34m'Expecting data to be a DMatrix object, got: '\u001b[0m\u001b[1;33m,\u001b[0m \u001b[0mtype\u001b[0m\u001b[1;33m(\u001b[0m\u001b[0mdata\u001b[0m\u001b[1;33m)\u001b[0m\u001b[1;33m)\u001b[0m\u001b[1;33m\u001b[0m\u001b[1;33m\u001b[0m\u001b[0m\n\u001b[0;32m   1886\u001b[0m         \u001b[1;32mif\u001b[0m \u001b[0mvalidate_features\u001b[0m\u001b[1;33m:\u001b[0m\u001b[1;33m\u001b[0m\u001b[1;33m\u001b[0m\u001b[0m\n\u001b[1;32m-> 1887\u001b[1;33m             \u001b[0mself\u001b[0m\u001b[1;33m.\u001b[0m\u001b[0m_validate_features\u001b[0m\u001b[1;33m(\u001b[0m\u001b[0mdata\u001b[0m\u001b[1;33m)\u001b[0m\u001b[1;33m\u001b[0m\u001b[1;33m\u001b[0m\u001b[0m\n\u001b[0m\u001b[0;32m   1888\u001b[0m         \u001b[0miteration_range\u001b[0m \u001b[1;33m=\u001b[0m \u001b[0m_convert_ntree_limit\u001b[0m\u001b[1;33m(\u001b[0m\u001b[0mself\u001b[0m\u001b[1;33m,\u001b[0m \u001b[0mntree_limit\u001b[0m\u001b[1;33m,\u001b[0m \u001b[0miteration_range\u001b[0m\u001b[1;33m)\u001b[0m\u001b[1;33m\u001b[0m\u001b[1;33m\u001b[0m\u001b[0m\n\u001b[0;32m   1889\u001b[0m         args = {\n",
      "\u001b[1;32md:\\DAL_DSbootcamp_project\\Project 11\\Project 11 （FinTech）\\Week 4\\Fintech 4\\Fintech 4\\FinTechAPI_Flask -V2\\py36env\\lib\\site-packages\\xgboost\\core.py\u001b[0m in \u001b[0;36m_validate_features\u001b[1;34m(self, data)\u001b[0m\n\u001b[0;32m   2475\u001b[0m                         ', '.join(str(s) for s in my_missing))\n\u001b[0;32m   2476\u001b[0m \u001b[1;33m\u001b[0m\u001b[0m\n\u001b[1;32m-> 2477\u001b[1;33m             \u001b[1;32mraise\u001b[0m \u001b[0mValueError\u001b[0m\u001b[1;33m(\u001b[0m\u001b[0mmsg\u001b[0m\u001b[1;33m.\u001b[0m\u001b[0mformat\u001b[0m\u001b[1;33m(\u001b[0m\u001b[0mself\u001b[0m\u001b[1;33m.\u001b[0m\u001b[0mfeature_names\u001b[0m\u001b[1;33m,\u001b[0m \u001b[0mdata\u001b[0m\u001b[1;33m.\u001b[0m\u001b[0mfeature_names\u001b[0m\u001b[1;33m)\u001b[0m\u001b[1;33m)\u001b[0m\u001b[1;33m\u001b[0m\u001b[1;33m\u001b[0m\u001b[0m\n\u001b[0m\u001b[0;32m   2478\u001b[0m \u001b[1;33m\u001b[0m\u001b[0m\n\u001b[0;32m   2479\u001b[0m     def get_split_value_histogram(\n",
      "\u001b[1;31mValueError\u001b[0m: feature_names mismatch: ['secappopenactil', 'bcopentobuy', 'numactvbctl', 'mthssincelastrecord', 'totcurbal', 'secappnumrevaccts', 'secappmthssincelastmajorderog', 'secappcollections12mthsexmed', 'mosinrcnttl', 'openrv12m', 'inqlast12m', 'mortacc', 'mthssincelastdelinq', 'numactvrevtl', 'tothicredlim', 'revolbaljoint', 'ficorangehigh', 'maxbalbc', 'openil24m', 'numbctl', 'totalrevhilim', 'totcollamt', 'secappopenacc', 'numtl120dpd2m', 'secappficorangelow', 'totalbalexmort', 'annualincjoint', 'ficorangelow', 'totalacc', 'mthssincerecentbcdlq', 'installment', 'numrevaccts', 'pubrec', 'accopenpast24mths', 'numoprevtl', 'avgcurbal', 'secappmortacc', 'openactil', 'dti', 'openacc6m', 'totalbalil', 'delinq2yrs', 'mosinoldilacct', 'annualinc', 'inqfi', 'numtl30dpd', 'loanamnt', 'numsats', 'mthssincerecentrevoldelinq', 'mthssincerecentbc', 'secappchargeoffwithin12mths', 'revolbal', 'inqlast6mths', 'mthssincercntil', 'openrv24m', 'secapprevolutil', 'totalilhighcreditlimit', 'collections12mthsexmed', 'chargeoffwithin12mths', 'numtl90gdpd24m', 'delinqamnt', 'mosinoldrevtlop', 'secappficorangehigh', 'taxliens', 'numbcsats', 'totalbclimit', 'dtijoint', 'numacctsever120pd', 'accnowdelinq', 'openil12m', 'pcttlnvrdlq', 'bcutil', 'mthssincerecentinq', 'numiltl', 'mosinrcntrevtlop', 'allutil', 'openacc', 'numrevtlbalgt0', 'totalcutl', 'mthssincelastmajorderog', 'numtloppast12m', 'percentbcgt75', 'pubrecbankruptcies', 'ilutil', 'secappinqlast6mths', 'earliestcrline_month', 'secappearliestcrline_month', 'emplength', 'intrate', 'revolutil', 'grade', 'subgrade', 'zipcode', 'zipcode_freq', 'emptitle_freq', 'addrstate_freq', 'homeownership_ANY', 'homeownership_MORTGAGE', 'homeownership_NONE', 'homeownership_OWN', 'homeownership_RENT', 'verificationstatus_Not Verified', 'verificationstatus_Source Verified', 'verificationstatus_Verified', 'verificationstatusjoint_Not Verified', 'verificationstatusjoint_Source Verified', 'verificationstatusjoint_Verified', 'purpose_car', 'purpose_credit_card', 'purpose_debt_consolidation', 'purpose_educational', 'purpose_home_improvement', 'purpose_house', 'purpose_major_purchase', 'purpose_medical', 'purpose_moving', 'purpose_other', 'purpose_renewable_energy', 'purpose_small_business', 'purpose_vacation', 'applicationtype_Individual', 'applicationtype_Joint App', 'initialliststatus_f', 'initialliststatus_w'] ['loan_amnt', 'funded_amnt', 'int_rate', 'installment', 'grade', 'sub_grade', 'emp_length', 'annual_inc', 'dti', 'delinq_2yrs', 'earliest_cr_line', 'inq_last_6mths', 'mths_since_last_delinq', 'mths_since_last_record', 'open_acc', 'pub_rec', 'revol_bal', 'revol_util', 'total_acc', 'collections_12_mths_ex_med', 'mths_since_last_major_derog', 'annual_inc_joint', 'dti_joint', 'acc_now_delinq', 'tot_coll_amt', 'tot_cur_bal', 'open_acc_6m', 'open_il_6m', 'open_il_12m', 'open_il_24m', 'mths_since_rcnt_il', 'total_bal_il', 'il_util', 'open_rv_12m', 'open_rv_24m', 'max_bal_bc', 'all_util', 'total_rev_hi_lim', 'inq_fi', 'total_cu_tl', 'inq_last_12m', 'acc_open_past_24mths', 'avg_cur_bal', 'bc_open_to_buy', 'bc_util', 'chargeoff_within_12_mths', 'delinq_amnt', 'mo_sin_old_il_acct', 'mo_sin_old_rev_tl_op', 'mo_sin_rcnt_rev_tl_op', 'mo_sin_rcnt_tl', 'mort_acc', 'mths_since_recent_bc', 'mths_since_recent_bc_dlq', 'mths_since_recent_inq', 'mths_since_recent_revol_delinq', 'num_accts_ever_120_pd', 'num_actv_bc_tl', 'num_actv_rev_tl', 'num_bc_sats', 'num_bc_tl', 'num_il_tl', 'num_op_rev_tl', 'num_rev_accts', 'num_rev_tl_bal_gt_0', 'num_sats', 'num_tl_120dpd_2m', 'num_tl_30dpd', 'num_tl_90g_dpd_24m', 'num_tl_op_past_12m', 'pct_tl_nvr_dlq', 'percent_bc_gt_75', 'pub_rec_bankruptcies', 'tax_liens', 'tot_hi_cred_lim', 'total_bal_ex_mort', 'total_bc_limit', 'total_il_high_credit_limit', 'train_flg', 'zip_code_freq', 'addr_state_freq', 'emp_title_freq', 'term_ 36 months', 'term_ 60 months', 'home_ownership_ANY', 'home_ownership_MORTGAGE', 'home_ownership_OWN', 'home_ownership_RENT', 'purpose_car', 'purpose_credit_card', 'purpose_debt_consolidation', 'purpose_home_improvement', 'purpose_house', 'purpose_major_purchase', 'purpose_medical', 'purpose_moving', 'purpose_other', 'purpose_renewable_energy', 'purpose_small_business', 'purpose_vacation', 'purpose_wedding', 'addr_state_AK', 'addr_state_AL', 'addr_state_AR', 'addr_state_AZ', 'addr_state_CA', 'addr_state_CO', 'addr_state_CT', 'addr_state_DC', 'addr_state_DE', 'addr_state_FL', 'addr_state_GA', 'addr_state_HI', 'addr_state_IL', 'addr_state_IN', 'addr_state_KS', 'addr_state_KY', 'addr_state_LA', 'addr_state_MA', 'addr_state_MD', 'addr_state_ME', 'addr_state_MI', 'addr_state_MN', 'addr_state_MO', 'addr_state_MS', 'addr_state_MT', 'addr_state_NC', 'addr_state_NH', 'addr_state_NJ', 'addr_state_NM', 'addr_state_NV', 'addr_state_NY', 'addr_state_OH', 'addr_state_OK', 'addr_state_OR', 'addr_state_PA', 'addr_state_RI', 'addr_state_SC', 'addr_state_SD', 'addr_state_TN', 'addr_state_TX', 'addr_state_UT', 'addr_state_VA', 'addr_state_VT', 'addr_state_WA', 'addr_state_WI', 'addr_state_WV', 'addr_state_WY', 'initial_list_status_f', 'initial_list_status_w', 'last_credit_pull_d_Apr-2014', 'last_credit_pull_d_Apr-2015', 'last_credit_pull_d_Apr-2016', 'last_credit_pull_d_Aug-2014', 'last_credit_pull_d_Aug-2015', 'last_credit_pull_d_Dec-2014', 'last_credit_pull_d_Dec-2015', 'last_credit_pull_d_Feb-2014', 'last_credit_pull_d_Feb-2015', 'last_credit_pull_d_Feb-2016', 'last_credit_pull_d_Jan-2014', 'last_credit_pull_d_Jan-2015', 'last_credit_pull_d_Jan-2016', 'last_credit_pull_d_Jul-2014', 'last_credit_pull_d_Jul-2015', 'last_credit_pull_d_Jun-2014', 'last_credit_pull_d_Jun-2015', 'last_credit_pull_d_Mar-2014', 'last_credit_pull_d_Mar-2015', 'last_credit_pull_d_Mar-2016', 'last_credit_pull_d_May-2014', 'last_credit_pull_d_May-2015', 'last_credit_pull_d_May-2016', 'last_credit_pull_d_Nov-2014', 'last_credit_pull_d_Nov-2015', 'last_credit_pull_d_Oct-2014', 'last_credit_pull_d_Oct-2015', 'last_credit_pull_d_Sep-2014', 'last_credit_pull_d_Sep-2015', 'application_type_INDIVIDUAL']\nexpected purpose_educational, mosinoldrevtlop, intrate, dtijoint, secappmortacc, totalacc, verificationstatus_Verified, ficorangehigh, totalrevhilim, homeownership_OWN, numtloppast12m, mosinoldilacct, pubrec, verificationstatus_Source Verified, numtl90gdpd24m, numoprevtl, numacctsever120pd, mthssincerecentinq, loanamnt, annualinc, totcollamt, zipcode, secappcollections12mthsexmed, initialliststatus_f, totalbclimit, inqlast6mths, collections12mthsexmed, ficorangelow, pcttlnvrdlq, initialliststatus_w, totalbalil, annualincjoint, numactvbctl, inqfi, pubrecbankruptcies, subgrade, chargeoffwithin12mths, mthssincercntil, emplength, numtl120dpd2m, verificationstatusjoint_Verified, tothicredlim, verificationstatusjoint_Not Verified, secappearliestcrline_month, mthssincerecentbc, bcutil, numbctl, openacc6m, mthssincelastmajorderog, revolbal, mosinrcnttl, accnowdelinq, homeownership_NONE, mthssincerecentbcdlq, homeownership_MORTGAGE, secappficorangelow, openil24m, secappnumrevaccts, accopenpast24mths, openacc, totalilhighcreditlimit, openrv24m, totalbalexmort, homeownership_ANY, openactil, inqlast12m, revolbaljoint, emptitle_freq, addrstate_freq, revolutil, secappchargeoffwithin12mths, zipcode_freq, totalcutl, openrv12m, verificationstatusjoint_Source Verified, totcurbal, secappinqlast6mths, numiltl, applicationtype_Individual, secappmthssincelastmajorderog, numsats, secappopenacc, mthssincelastdelinq, mosinrcntrevtlop, verificationstatus_Not Verified, taxliens, applicationtype_Joint App, ilutil, percentbcgt75, mortacc, earliestcrline_month, delinq2yrs, mthssincelastrecord, numrevtlbalgt0, bcopentobuy, mthssincerecentrevoldelinq, secapprevolutil, numactvrevtl, secappopenactil, numbcsats, openil12m, maxbalbc, numrevaccts, delinqamnt, secappficorangehigh, homeownership_RENT, numtl30dpd, allutil, avgcurbal in input data\ntraining data did not have the following fields: last_credit_pull_d_Mar-2016, initial_list_status_f, addr_state_VT, mths_since_recent_revol_delinq, mort_acc, max_bal_bc, avg_cur_bal, mo_sin_rcnt_tl, zip_code_freq, addr_state_FL, last_credit_pull_d_Nov-2014, addr_state_CA, last_credit_pull_d_Apr-2014, annual_inc_joint, last_credit_pull_d_Jun-2014, last_credit_pull_d_May-2014, addr_state_MI, addr_state_VA, last_credit_pull_d_Jun-2015, tot_hi_cred_lim, open_rv_12m, revol_util, emp_title_freq, bc_util, addr_state_KY, chargeoff_within_12_mths, addr_state_MO, addr_state_TN, mths_since_recent_inq, addr_state_KS, last_credit_pull_d_Oct-2014, num_tl_op_past_12m, addr_state_AK, addr_state_MT, addr_state_NV, addr_state_UT, addr_state_PA, initial_list_status_w, last_credit_pull_d_Feb-2016, tot_cur_bal, il_util, tot_coll_amt, num_tl_90g_dpd_24m, open_acc_6m, addr_state_HI, last_credit_pull_d_Jul-2014, acc_open_past_24mths, addr_state_WY, inq_last_12m, int_rate, bc_open_to_buy, mths_since_recent_bc, term_ 60 months, addr_state_MA, addr_state_DC, last_credit_pull_d_Mar-2014, open_il_24m, home_ownership_ANY, loan_amnt, open_il_12m, addr_state_IN, last_credit_pull_d_Apr-2015, mths_since_rcnt_il, addr_state_AZ, last_credit_pull_d_Dec-2015, addr_state_GA, last_credit_pull_d_Sep-2015, addr_state_SD, revol_bal, inq_fi, addr_state_IL, addr_state_NH, home_ownership_OWN, earliest_cr_line, addr_state_freq, last_credit_pull_d_May-2016, term_ 36 months, dti_joint, addr_state_CT, num_bc_sats, delinq_2yrs, addr_state_NC, addr_state_MD, sub_grade, total_bal_il, last_credit_pull_d_Dec-2014, last_credit_pull_d_Jul-2015, num_il_tl, mths_since_last_major_derog, total_rev_hi_lim, addr_state_AR, addr_state_CO, last_credit_pull_d_Jan-2015, application_type_INDIVIDUAL, total_acc, total_bal_ex_mort, last_credit_pull_d_Jan-2014, total_cu_tl, open_rv_24m, addr_state_ME, addr_state_WV, num_actv_bc_tl, last_credit_pull_d_Sep-2014, tax_liens, addr_state_SC, all_util, addr_state_DE, num_accts_ever_120_pd, addr_state_MN, addr_state_TX, last_credit_pull_d_Oct-2015, mths_since_recent_bc_dlq, mo_sin_old_il_acct, pub_rec_bankruptcies, num_rev_tl_bal_gt_0, num_sats, last_credit_pull_d_Apr-2016, num_rev_accts, num_bc_tl, open_acc, purpose_wedding, addr_state_MS, total_il_high_credit_limit, num_actv_rev_tl, num_tl_30dpd, total_bc_limit, addr_state_OH, last_credit_pull_d_Aug-2015, delinq_amnt, last_credit_pull_d_Nov-2015, num_op_rev_tl, addr_state_NY, mo_sin_rcnt_rev_tl_op, addr_state_AL, home_ownership_RENT, last_credit_pull_d_Aug-2014, mths_since_last_delinq, addr_state_OK, pct_tl_nvr_dlq, addr_state_RI, last_credit_pull_d_May-2015, addr_state_NJ, mths_since_last_record, acc_now_delinq, home_ownership_MORTGAGE, last_credit_pull_d_Feb-2015, last_credit_pull_d_Jan-2016, collections_12_mths_ex_med, percent_bc_gt_75, num_tl_120dpd_2m, addr_state_WI, emp_length, train_flg, addr_state_WA, mo_sin_old_rev_tl_op, addr_state_OR, addr_state_LA, pub_rec, funded_amnt, addr_state_NM, open_il_6m, last_credit_pull_d_Mar-2015, annual_inc, last_credit_pull_d_Feb-2014, inq_last_6mths"
     ]
    }
   ],
   "source": [
    "prediction = model.predict(dtrain)\n",
    "prediction = float(prediction)"
   ]
  },
  {
   "cell_type": "markdown",
   "metadata": {},
   "source": [
    "# test html"
   ]
  },
  {
   "cell_type": "code",
   "execution_count": 21,
   "metadata": {},
   "outputs": [],
   "source": [
    "import json\n",
    "import requests\n",
    "# return prediction with tmp param\n",
    "keys = [\"int_rate\"\n",
    ", \"loan_amnt\"\n",
    ", \"term\"\n",
    ", \"fund_rate\"\n",
    ", \"bc_open_to_buy\"\n",
    ", \"total_il_high_credit_limit\"\n",
    ", \"dti\"\n",
    ", \"annual_inc\"\n",
    ", \"bc_util\"]\n",
    "data = [14.34, 15000, 36, 25.0, 98.0, 2.8, 1.31, 0.53, 10]\n",
    "send_data = dict(zip(keys, data))\n",
    "\n",
    "j_data = json.dumps(send_data)\n",
    "# print(j_data)\n",
    "headers = {'content-type': 'application/json', 'Accept-Charset': 'UTF-8'}\n",
    "url = 'http://127.0.0.1:5000/predict'\n",
    "r2 = requests.post(url, data=j_data, headers=headers)"
   ]
  },
  {
   "cell_type": "code",
   "execution_count": 22,
   "metadata": {},
   "outputs": [
    {
     "data": {
      "text/plain": [
       "<Response [200]>"
      ]
     },
     "execution_count": 22,
     "metadata": {},
     "output_type": "execute_result"
    }
   ],
   "source": [
    "r2"
   ]
  },
  {
   "cell_type": "code",
   "execution_count": 24,
   "metadata": {},
   "outputs": [
    {
     "data": {
      "text/plain": [
       "'{\\n  \"high_risk\": 0.09, \\n  \"safe\": 0.91, \\n  \"threshold\": 0.1\\n}\\n'"
      ]
     },
     "execution_count": 24,
     "metadata": {},
     "output_type": "execute_result"
    }
   ],
   "source": [
    "r2.text"
   ]
  },
  {
   "cell_type": "code",
   "execution_count": 15,
   "metadata": {},
   "outputs": [
    {
     "data": {
      "text/plain": [
       "{'high_risk': 0.09, 'safe': 0.91, 'threshold': 0.1}"
      ]
     },
     "execution_count": 15,
     "metadata": {},
     "output_type": "execute_result"
    }
   ],
   "source": [
    "import json\n",
    "prediction = r2.text\n",
    "json.loads(r2.text)"
   ]
  },
  {
   "cell_type": "code",
   "execution_count": 16,
   "metadata": {},
   "outputs": [],
   "source": [
    "a = {\"a\":1}"
   ]
  },
  {
   "cell_type": "code",
   "execution_count": 17,
   "metadata": {},
   "outputs": [
    {
     "data": {
      "text/plain": [
       "1"
      ]
     },
     "execution_count": 17,
     "metadata": {},
     "output_type": "execute_result"
    }
   ],
   "source": [
    "a[\"a\"]"
   ]
  },
  {
   "cell_type": "code",
   "execution_count": 20,
   "metadata": {},
   "outputs": [
    {
     "data": {
      "text/plain": [
       "True"
      ]
     },
     "execution_count": 20,
     "metadata": {},
     "output_type": "execute_result"
    }
   ],
   "source": [
    "a.get(\"B\")==None"
   ]
  },
  {
   "cell_type": "code",
   "execution_count": 26,
   "metadata": {},
   "outputs": [],
   "source": [
    "r2 = requests.get('http://localhost:5000/threshold')"
   ]
  },
  {
   "cell_type": "code",
   "execution_count": 29,
   "metadata": {},
   "outputs": [
    {
     "data": {
      "text/plain": [
       "0.1"
      ]
     },
     "execution_count": 29,
     "metadata": {},
     "output_type": "execute_result"
    }
   ],
   "source": [
    "r2.json()"
   ]
  },
  {
   "cell_type": "code",
   "execution_count": 30,
   "metadata": {},
   "outputs": [
    {
     "data": {
      "text/plain": [
       "0.1"
      ]
     },
     "execution_count": 30,
     "metadata": {},
     "output_type": "execute_result"
    }
   ],
   "source": [
    "r2.json()"
   ]
  },
  {
   "cell_type": "code",
   "execution_count": null,
   "metadata": {},
   "outputs": [],
   "source": [
    "r2"
   ]
  },
  {
   "cell_type": "code",
   "execution_count": null,
   "metadata": {},
   "outputs": [],
   "source": [
    "Flask.request()"
   ]
  },
  {
   "cell_type": "code",
   "execution_count": 39,
   "metadata": {},
   "outputs": [
    {
     "name": "stdout",
     "output_type": "stream",
     "text": [
      "a 1.0\n",
      "b 2.0\n",
      "c 3.0\n",
      "{'a': 1.0, 'b': 2.0, 'c': 3.0}\n"
     ]
    }
   ],
   "source": [
    "data = { 'a':'1' , 'b':'2' , 'c':'3' }\n",
    "data_new = {}\n",
    "for a,x in data.items():\n",
    "    data_new.update({a:float(x)})\n",
    "\n",
    "print(data_new)"
   ]
  }
 ],
 "metadata": {
  "kernelspec": {
   "display_name": "env",
   "language": "python",
   "name": "python3"
  },
  "language_info": {
   "codemirror_mode": {
    "name": "ipython",
    "version": 3
   },
   "file_extension": ".py",
   "mimetype": "text/x-python",
   "name": "python",
   "nbconvert_exporter": "python",
   "pygments_lexer": "ipython3",
   "version": "3.6.8"
  },
  "orig_nbformat": 4,
  "vscode": {
   "interpreter": {
    "hash": "f95ce8d1a3a89b83cca92453330babf79a96e35d80f45d517b61cca6d172c9c1"
   }
  }
 },
 "nbformat": 4,
 "nbformat_minor": 2
}
